{
 "cells": [
  {
   "cell_type": "code",
   "execution_count": 1,
   "id": "31c3f564-3a55-43ff-b54d-fa33beaaad35",
   "metadata": {},
   "outputs": [],
   "source": [
    "# Q2"
   ]
  },
  {
   "cell_type": "code",
   "execution_count": 1,
   "id": "a6415867-ef3c-4ae6-95bb-8400c70328a8",
   "metadata": {},
   "outputs": [],
   "source": [
    "!pip install --upgrade wandb\n",
    "import cv2\n",
    "import glob\n",
    "import random\n",
    "import torch\n",
    "import torchvision\n",
    "torch.manual_seed(7)\n",
    "torch.cuda.empty_cache()\n",
    "from torch import  nn,optim\n",
    "import torch.nn.functional as F\n",
    "import numpy as np\n",
    "import matplotlib.pyplot as plt\n",
    "from pandas.core.common import flatten\n",
    "from tqdm import tqdm \n",
    "import torchvision.transforms as T\n",
    "from torch.utils.data import DataLoader,Dataset\n",
    "from PIL import Image\n",
    "import wandb\n",
    "from wandb.keras import WandbCallback\n"
   ]
  },
  {
   "cell_type": "code",
   "execution_count": null,
   "id": "dcd6bd76-968f-45ac-b865-9a14823bfc36",
   "metadata": {},
   "outputs": [],
   "source": [
    "!wget --header=\"Host: storage.googleapis.com\" --header=\"User-Agent: Mozilla/5.0 (Windows NT 10.0; Win64; x64) AppleWebKit/537.36 (KHTML, like Gecko) Chrome/99.0.4844.51 Safari/537.36\" --header=\"Accept: text/html,application/xhtml+xml,application/xml;q=0.9,image/avif,image/webp,image/apng,*/*;q=0.8,application/signed-exchange;v=b3;q=0.9\" --header=\"Accept-Language: en-US,en;q=0.9\" --header=\"Referer: https://wandb.ai/\" \"https://storage.googleapis.com/wandb_datasets/nature_12K.zip\" -c -O 'nature_12K.zip'"
   ]
  },
  {
   "cell_type": "code",
   "execution_count": null,
   "id": "b6c2d7e1-0d03-47d3-aa50-ee605e9e78b5",
   "metadata": {},
   "outputs": [],
   "source": [
    "!unzip \"nature_12K.zip\""
   ]
  },
  {
   "cell_type": "code",
   "execution_count": 2,
   "id": "931059d8-313f-4789-a333-139bc878e0ff",
   "metadata": {},
   "outputs": [],
   "source": [
    "import os\n",
    "def check_os():\n",
    "    if os.name == 'nt':\n",
    "        return 'Windows'\n",
    "    else:\n",
    "        return 'Linux'\n",
    "operatingSystem = check_os()\n",
    "# print(operatingSystem)"
   ]
  },
  {
   "cell_type": "code",
   "execution_count": 3,
   "id": "63f8279d-b592-48b7-a652-857818197079",
   "metadata": {},
   "outputs": [],
   "source": [
    "#Custom dataset class for inaturalist dataset\n",
    "from PIL import Image\n",
    "\n",
    "def numpy_to_pil(image):\n",
    "    return Image.fromarray(np.uint8(image)).convert('RGB')\n",
    "    \n",
    "class iNaturalist(Dataset):\n",
    "    def __init__(self, image_paths, class_to_idx, transform):\n",
    "        self.image_paths = image_paths\n",
    "        self.transform = transform\n",
    "        self.class_to_idx= class_to_idx\n",
    "        \n",
    "    def __len__(self):\n",
    "        return len(self.image_paths)\n",
    "\n",
    "    def __getitem__(self, idx):\n",
    "        image_filepath = self.image_paths[idx]\n",
    "        image = cv2.cvtColor(cv2.imread(image_filepath), cv2.COLOR_BGR2RGB)\n",
    "        # print(image_filepath)\n",
    "        if(operatingSystem=='Windows'):\n",
    "            label = image_filepath.split('\\\\')[-2]\n",
    "        else:\n",
    "            label = image_filepath.split('/')[-2]\n",
    "        # print(label)\n",
    "        label = self.class_to_idx[label]\n",
    "        \n",
    "        PIL_image = numpy_to_pil(image)\n",
    "        PIL_image = Image.fromarray(image.astype('uint8'), 'RGB')\n",
    "        PIL_image = self.transform(PIL_image)\n",
    "\n",
    "        return PIL_image, label"
   ]
  },
  {
   "cell_type": "code",
   "execution_count": 4,
   "id": "1d7e326e-da18-4ff7-b7e3-e572f4bc1ee5",
   "metadata": {},
   "outputs": [],
   "source": [
    "def forwardSlash(l):\n",
    "    a=[]\n",
    "    for ele in l:\n",
    "        a.append(ele.replace('\\\\','/'))\n",
    "    return a\n",
    "    \n",
    "def create_data(data_type, data_path,  data_aug, image_shape, b_size):\n",
    "    #Defining transformations when data_aug=True  [used when data_type='train' and data_aug=True]\n",
    "    if(data_aug):\n",
    "        transforms = T.Compose([T.Resize((image_shape)),\n",
    "                              T.RandomRotation(degrees=15),\n",
    "                              T.RandomHorizontalFlip(p=0.5),\n",
    "                              T.RandomGrayscale(p=0.2),\n",
    "                              T.ToTensor()])\n",
    "    else:\n",
    "    #Defining transformations when data_aug=False\n",
    "        transforms = T.Compose([T.Resize((image_shape)),\n",
    "                               T.ToTensor()])\n",
    "    image_paths=[] # List to store image paths\n",
    "    classes= [] # List to  store class values\n",
    "    #get all the paths from data_path and append image paths and class to to respective lists\n",
    "    cnt=0\n",
    "    for curr_data_path in glob.glob(data_path + '/*'):\n",
    "        if(operatingSystem=='Windows'):\n",
    "            classes.append(curr_data_path.split('\\\\')[-1])\n",
    "        else:\n",
    "            classes.append(curr_data_path.split('/')[-1])\n",
    "        image_paths.append(glob.glob(curr_data_path+'/*'))\n",
    "    image_paths = list(flatten(image_paths))\n",
    "    \n",
    "    #Creating dictionary for class indexes\n",
    "    idx_to_class={}\n",
    "    class_to_idx={}\n",
    "    for i in range(len(classes)):\n",
    "        idx=i\n",
    "        cls=classes[i]\n",
    "        idx_to_class[idx]=cls\n",
    "        class_to_idx[cls]=idx\n",
    "    \n",
    "    if (data_type != 'test'):\n",
    "        random.shuffle(image_paths)\n",
    "        # 80% training data and 20% validation data\n",
    "        train_image_paths = image_paths[:int(0.8*len(image_paths))]\n",
    "        valid_image_paths = image_paths[int(0.8*len(image_paths)):] \n",
    "        #Using custom class for getting train and validation dataset\n",
    "        \n",
    "        train_dataset = iNaturalist(train_image_paths,class_to_idx,transforms)\n",
    "        validation_dataset = iNaturalist(valid_image_paths,class_to_idx,transforms)  \n",
    "          \n",
    "        #using Dataloader to load train and valid dataset according to batch size\n",
    "        train_loader = DataLoader(train_dataset, batch_size=b_size, shuffle=True)\n",
    "        validation_loader = DataLoader(validation_dataset, batch_size=b_size, shuffle=True)\n",
    "        return train_loader,validation_loader\n",
    "    else:\n",
    "        #Using custom class for getting test dataset\n",
    "        transforms = T.Compose([T.Resize((image_shape)),\n",
    "                               T.ToTensor()])\n",
    "        test_dataset= iNaturalist(image_paths,class_to_idx,transforms)\n",
    "        #using Dataloader to load test dataset according to batch size\n",
    "        test_loader = DataLoader(test_dataset, batch_size=b_size, shuffle=True)\n",
    "        return test_loader\n",
    "    "
   ]
  },
  {
   "cell_type": "code",
   "execution_count": 7,
   "id": "d464e346-6f7e-4623-bba3-6d956425730d",
   "metadata": {},
   "outputs": [],
   "source": [
    "from pytorch_lightning import LightningModule\n",
    "class ConvolutionBlocks(LightningModule):\n",
    "    def __init__(self, activation, batch_norm, size_filters, filter_organization, number_filters):\n",
    "        super(ConvolutionBlocks, self).__init__()\n",
    "        \n",
    "        self.activation=activation\n",
    "        self.num_filters=[number_filters]\n",
    "        self.batch_norm=batch_norm\n",
    "        \n",
    "        for i in range(1,5):\n",
    "          self.num_filters.append(int(self.num_filters[i-1]*filter_organization))\n",
    "            \n",
    "        if(self.batch_norm):  \n",
    "            self.conv_layers = nn.Sequential(\n",
    "                nn.Conv2d(in_channels=3,out_channels=self.num_filters[0],kernel_size=size_filters[0],stride=(1, 1),padding=(1, 1),bias=False),\n",
    "                nn.BatchNorm2d(self.num_filters[0]),\n",
    "                self.activation,\n",
    "                nn.MaxPool2d(kernel_size=(2, 2), stride=(2, 2)),\n",
    "                \n",
    "                nn.Conv2d(in_channels=self.num_filters[0],out_channels=self.num_filters[1],kernel_size=size_filters[1],stride=(1, 1),padding=(1, 1),bias=False),\n",
    "                nn.BatchNorm2d(self.num_filters[1]),\n",
    "                self.activation,\n",
    "                nn.MaxPool2d(kernel_size=(2, 2), stride=(2, 2)),\n",
    "    \n",
    "                nn.Conv2d(in_channels=self.num_filters[1],out_channels=self.num_filters[2],kernel_size=size_filters[2],stride=(1, 1),padding=(1, 1),bias=False),\n",
    "                nn.BatchNorm2d(self.num_filters[2]),\n",
    "                self.activation,\n",
    "                nn.MaxPool2d(kernel_size=(2, 2), stride=(2, 2)),\n",
    "    \n",
    "                nn.Conv2d(in_channels=self.num_filters[2],out_channels=self.num_filters[3],kernel_size=size_filters[3],stride=(1, 1),padding=(1, 1),bias=False),\n",
    "                nn.BatchNorm2d(self.num_filters[3]),\n",
    "                self.activation,\n",
    "                nn.MaxPool2d(kernel_size=(2, 2), stride=(2, 2)),\n",
    "    \n",
    "                nn.Conv2d(in_channels=self.num_filters[3],out_channels=self.num_filters[4],kernel_size=size_filters[4],stride=(1, 1),padding=(1, 1),bias=False),\n",
    "                nn.BatchNorm2d(self.num_filters[4]),\n",
    "                self.activation,\n",
    "                nn.MaxPool2d(kernel_size=(2, 2), stride=(2, 2))\n",
    "            )\n",
    "        else:\n",
    "            self.conv_layers = nn.Sequential(\n",
    "                nn.Conv2d(in_channels=3,out_channels=self.num_filters[0],kernel_size=size_filters[0],stride=(1, 1),padding=(1, 1),bias=False),\n",
    "                self.activation,\n",
    "                nn.MaxPool2d(kernel_size=(2, 2), stride=(2, 2)),\n",
    "                \n",
    "                nn.Conv2d(in_channels=self.num_filters[0],out_channels=self.num_filters[1],kernel_size=size_filters[1],stride=(1, 1),padding=(1, 1),bias=False),\n",
    "                self.activation,\n",
    "                nn.MaxPool2d(kernel_size=(2, 2), stride=(2, 2)),\n",
    "    \n",
    "                nn.Conv2d(in_channels=self.num_filters[1],out_channels=self.num_filters[2],kernel_size=size_filters[2],stride=(1, 1),padding=(1, 1),bias=False),\n",
    "                self.activation,\n",
    "                nn.MaxPool2d(kernel_size=(2, 2), stride=(2, 2)),\n",
    "    \n",
    "                nn.Conv2d(in_channels=self.num_filters[2],out_channels=self.num_filters[3],kernel_size=size_filters[3],stride=(1, 1),padding=(1, 1),bias=False),\n",
    "                self.activation,\n",
    "                nn.MaxPool2d(kernel_size=(2, 2), stride=(2, 2)),\n",
    "    \n",
    "                nn.Conv2d(in_channels=self.num_filters[3],out_channels=self.num_filters[4],kernel_size=size_filters[4],stride=(1, 1),padding=(1, 1),bias=False),\n",
    "                self.activation,\n",
    "                nn.MaxPool2d(kernel_size=(2, 2), stride=(2, 2))\n",
    "            )\n",
    "            \n",
    "\n",
    "    def forward(self, x):\n",
    "        return self.conv_layers(x)\n",
    "     \n"
   ]
  },
  {
   "cell_type": "code",
   "execution_count": 8,
   "id": "aa745b44-97dc-4065-ba3b-22c63c9f7835",
   "metadata": {},
   "outputs": [],
   "source": [
    "class Model(nn.Module):\n",
    "    def __init__(self, number_initial_filters , neurons_in_dense_layer, image_shape,dropout , activation, batch_norm, size_filters, filter_organization):\n",
    "        super().__init__()\n",
    "        \n",
    "        if(activation=='relu'):\n",
    "            self.activation = nn.ReLU()\n",
    "        elif(activation=='gelu'):\n",
    "            self.activation = nn.GELU()\n",
    "        elif(activation=='silu'):\n",
    "            self.activation = nn.SiLU()\n",
    "        else:\n",
    "            self.activation = nn.Mish()\n",
    "            \n",
    "\n",
    "        self.conv_blocks = ConvolutionBlocks(self.activation, batch_norm, size_filters, filter_organization, number_initial_filters)\n",
    "        sz=self.conv_blocks(torch.zeros(*(image_shape))).data.shape\n",
    "        fc1_in_channels = sz[1] * sz[2] * sz[3]\n",
    "        self.output= nn.Linear(neurons_in_dense_layer,10,bias=True)   \n",
    "\n",
    "        self.dense_layers = nn.Sequential(\n",
    "            nn.Flatten(),\n",
    "            nn.Linear(fc1_in_channels,neurons_in_dense_layer,bias=True),\n",
    "            self.activation,\n",
    "            nn.Dropout(p=dropout)\n",
    "        )\n",
    "        \n",
    "    def forward(self, x):\n",
    "        x = self.conv_blocks(x)\n",
    "        x = self.dense_layers(x)\n",
    "        x = F.softmax(self.output(x),dim=1) #Applying softmax across rows\n",
    "        return x"
   ]
  },
  {
   "cell_type": "code",
   "execution_count": 9,
   "id": "43663c7d-1ae8-401e-b470-abfbec4cb5c2",
   "metadata": {},
   "outputs": [],
   "source": [
    "def cal(data,device,model,criterion):\n",
    "    loss=0\n",
    "    corr_sample=0\n",
    "    tot_sample=0\n",
    "    for x,y in tqdm(data,total=len(data)):\n",
    "        x=x.to(device=device)\n",
    "        y=y.to(device=device)\n",
    "        out = model(x)\n",
    "        loss+=criterion(out,y).item()\n",
    "        _,pred=out.max(1)\n",
    "        corr_sample+=(pred==y).sum().item()\n",
    "        tot_sample+=pred.size(0)\n",
    "    return corr_sample,tot_sample,loss\n",
    "    \n",
    "def evaluate(device, loader, model):\n",
    "    ''' Function to calculate accuracy to see performance of our model '''\n",
    "    \n",
    "    model.eval()\n",
    "    criterion = nn.CrossEntropyLoss()\n",
    "    correct_samples,total_samples,loss=0,0,0\n",
    "    with torch.no_grad():\n",
    "        correct_samples_,total_samples_,loss_ = cal(loader,device,model,criterion)\n",
    "        correct_samples+=correct_samples_\n",
    "        total_samples+=total_samples_\n",
    "        loss+=loss_\n",
    "           \n",
    "    acc = round((correct_samples / total_samples) * 100, 4)\n",
    "    return acc, loss/total_samples \n",
    " "
   ]
  },
  {
   "cell_type": "code",
   "execution_count": 10,
   "id": "d4b59db1-ba93-4435-807f-61ae2c83f593",
   "metadata": {},
   "outputs": [],
   "source": [
    "def cal_train(data,device,model,criterion,optimizer):\n",
    "    train_loss=0\n",
    "    corr_train=0\n",
    "    tot_sample=0\n",
    "    for idd,(x,y) in enumerate(tqdm(data)):\n",
    "        x=x.to(device=device)\n",
    "        yt=y.to(device=device)\n",
    "        out = model(x)\n",
    "        loss=criterion(out,yt)\n",
    "        train_loss+=loss.item()\n",
    "        _,pred=out.max(1)\n",
    "        corr_train+=(pred==yt).sum()\n",
    "        tot_sample+=pred.size(0)\n",
    "        optimizer.zero_grad()\n",
    "        loss.backward()\n",
    "        optimizer.step()\n",
    "        \n",
    "    return train_loss,tot_sample,corr_train\n",
    "\n",
    "\n",
    "def train(args):\n",
    "    torch.cuda.empty_cache()\n",
    "    image_shape = (1,3,224,224) # All the images of dataset will get resized to this image shape\n",
    "    test_data_path = 'inaturalist_12K/val/'\n",
    "    train_data_path = 'inaturalist_12K/train/'\n",
    "     \n",
    "    wandb.run.name = 'ep-'+str(args.epochs)+'-lr-'+str(args.learning_rate)+'-bs-'+str(args.batch_size)+'-act-'+str(args.activation)+'-filter_sizes-'+str(args.size_filters) +'-ini_filt'+str(args.number_initial_filters)+'-n_d-'+str(args.neurons_in_dense_layer)\n",
    "\n",
    "    # Set device\n",
    "    device = torch.device(\"cuda\" if torch.cuda.is_available() else \"cpu\")\n",
    "\n",
    "    #CNN Model creation\n",
    "    model = Model(args.number_initial_filters ,args.neurons_in_dense_layer,image_shape,args.dropout, args.activation, args.batch_norm, args.size_filters, args.filter_organization).to(device)\n",
    "\n",
    "    # Loss and optimizer\n",
    "    criterion = nn.CrossEntropyLoss()\n",
    "    optimizer = optim.Adam(model.parameters(), lr=args.learning_rate)\n",
    "\n",
    "    # Train Network\n",
    "    for epoch in range(args.epochs):\n",
    "        model.train()\n",
    "        test_loader = create_data(\"test\",test_data_path,args.data_aug, image_shape[2:], args.batch_size)\n",
    "        train_loader, valid_loader = create_data(\"train\",train_data_path,args.data_aug,image_shape[2:], args.batch_size)\n",
    "        \n",
    "        train_loss,total_samples,train_correct = cal_train(train_loader,device,model,criterion,optimizer)\n",
    "        # Calculating training accuracy and training loss\n",
    "        train_loss /= total_samples\n",
    "        train_acc = round((train_correct / total_samples).item()  * 100, 4)\n",
    "        \n",
    "       \n",
    "        \n",
    "        # Calculating accuracy and loss for test and validataion data\n",
    "        val_acc, val_loss = evaluate(device, valid_loader, model)\n",
    "        test_acc, test_loss = evaluate(device, test_loader, model)\n",
    "\n",
    "        \n",
    "        #logging wandb data\n",
    "        wandb.log(\n",
    "          {'train_acc': train_acc, 'val_acc': val_acc, 'test_acc': test_acc, 'train_loss': train_loss, 'val_loss': val_loss, 'test_loss': test_loss}\n",
    "        )\n",
    "        print('\\nEpoch ', epoch, 'train_acc', train_acc, 'val_acc', val_acc, 'test_acc', test_acc, 'train_loss', train_loss, 'val_loss', val_loss, 'test_loss', test_loss) "
   ]
  },
  {
   "cell_type": "code",
   "execution_count": 11,
   "id": "b1943e85-5599-46f2-846f-11b18c3d6eea",
   "metadata": {},
   "outputs": [
    {
     "name": "stderr",
     "output_type": "stream",
     "text": [
      "\u001b[34m\u001b[1mwandb\u001b[0m: Currently logged in as: \u001b[33mcs23m055\u001b[0m (\u001b[33mcs23m055_assignment_1\u001b[0m). Use \u001b[1m`wandb login --relogin`\u001b[0m to force relogin\n",
      "\u001b[34m\u001b[1mwandb\u001b[0m: \u001b[33mWARNING\u001b[0m If you're specifying your api key in code, ensure this code is not shared publicly.\n",
      "\u001b[34m\u001b[1mwandb\u001b[0m: \u001b[33mWARNING\u001b[0m Consider setting the WANDB_API_KEY environment variable, or running `wandb login` from the command line.\n",
      "\u001b[34m\u001b[1mwandb\u001b[0m: Appending key for api.wandb.ai to your netrc file: C:\\Users\\ravis\\.netrc\n"
     ]
    },
    {
     "name": "stdout",
     "output_type": "stream",
     "text": [
      "Create sweep with ID: zz1iinjb\n",
      "Sweep URL: https://wandb.ai/cs23m055/Assigment2_local/sweeps/zz1iinjb\n",
      "sweep_id:  zz1iinjb\n"
     ]
    }
   ],
   "source": [
    "wandb.login(key = \"67fcf10073b0d1bfeee44a1e4bd6f3eb5b674f8e\")\n",
    "sweep_config = {\n",
    "    \"name\" : \"Assignment2_kaggle\",\n",
    "    \"method\" : \"bayes\",\n",
    "    'metric': {\n",
    "        'name': 'val_acc',\n",
    "        'goal': 'maximize'\n",
    "    },\n",
    "    \"parameters\" : {\n",
    "        \"batch_norm\": {\n",
    "              \"values\": [True,False]\n",
    "        },\n",
    "        \"neurons_in_dense_layer\": {\n",
    "              \"values\": [32, 64, 128, 256, 512, 1024]\n",
    "          },\n",
    "        \"epochs\" : {\n",
    "            \"values\" : [20,25]\n",
    "        },\n",
    "        \"batch_size\": {\n",
    "            \"values\": [32, 64, 128]\n",
    "        },\n",
    "        \"data_aug\": {\n",
    "              \"values\": [True,False]\n",
    "        },\n",
    "        'size_filters':{\n",
    "            'values': [[7,5,5,3,3], [11,9,7,5,3]]\n",
    "        },\n",
    "        'filter_organization': {\n",
    "            'values': [1, 2, 0.5]\n",
    "        },\n",
    "        'number_initial_filters': {\n",
    "            'values': [16, 32, 64, 128]\n",
    "        },\n",
    "        'activation': {\n",
    "            'values': ['relu', 'mish', 'gelu', 'silu']\n",
    "        },\n",
    "        'learning_rate':{\n",
    "            \"values\": [0.0001,0.0003]\n",
    "        },\n",
    "        \"dropout\": {\n",
    "            \"values\": [0,0.1,0.2]\n",
    "        }        \n",
    "    }\n",
    "}\n",
    "sweep_id = wandb.sweep(sweep_config, project=\"Assigment2_kaggle\", entity=\"cs23m055\")\n",
    "print('sweep_id: ', sweep_id)"
   ]
  },
  {
   "cell_type": "code",
   "execution_count": 12,
   "id": "31fd1387-693d-43b1-86c2-dc89313085ba",
   "metadata": {},
   "outputs": [],
   "source": [
    "def spawn_fn():\n",
    "    with wandb.init(project=\"Assignment2_kaggle\", entity=\"cs23m055\") as run:\n",
    "        config = wandb.config\n",
    "        train(config)"
   ]
  },
  {
   "cell_type": "code",
   "execution_count": null,
   "id": "5dd33955-8a77-4fa4-a045-10e20c9c9882",
   "metadata": {},
   "outputs": [
    {
     "name": "stderr",
     "output_type": "stream",
     "text": [
      "\u001b[34m\u001b[1mwandb\u001b[0m: Agent Starting Run: qfmmfnnf with config:\n",
      "\u001b[34m\u001b[1mwandb\u001b[0m: \tactivation: relu\n",
      "\u001b[34m\u001b[1mwandb\u001b[0m: \tbatch_norm: False\n",
      "\u001b[34m\u001b[1mwandb\u001b[0m: \tbatch_size: 64\n",
      "\u001b[34m\u001b[1mwandb\u001b[0m: \tdata_aug: False\n",
      "\u001b[34m\u001b[1mwandb\u001b[0m: \tdropout: 0\n",
      "\u001b[34m\u001b[1mwandb\u001b[0m: \tepochs: 25\n",
      "\u001b[34m\u001b[1mwandb\u001b[0m: \tfilter_organization: 2\n",
      "\u001b[34m\u001b[1mwandb\u001b[0m: \tlearning_rate: 0.0001\n",
      "\u001b[34m\u001b[1mwandb\u001b[0m: \tneurons_in_dense_layer: 64\n",
      "\u001b[34m\u001b[1mwandb\u001b[0m: \tnumber_initial_filters: 64\n",
      "\u001b[34m\u001b[1mwandb\u001b[0m: \tsize_filters: [11, 9, 7, 5, 3]\n",
      "\u001b[34m\u001b[1mwandb\u001b[0m: Currently logged in as: \u001b[33mcs23m055\u001b[0m. Use \u001b[1m`wandb login --relogin`\u001b[0m to force relogin\n",
      "\u001b[34m\u001b[1mwandb\u001b[0m: \u001b[33mWARNING\u001b[0m Ignored wandb.init() arg project when running a sweep.\n",
      "\u001b[34m\u001b[1mwandb\u001b[0m: \u001b[33mWARNING\u001b[0m Ignored wandb.init() arg entity when running a sweep.\n"
     ]
    },
    {
     "data": {
      "text/html": [
       "Tracking run with wandb version 0.16.6"
      ],
      "text/plain": [
       "<IPython.core.display.HTML object>"
      ]
     },
     "metadata": {},
     "output_type": "display_data"
    },
    {
     "data": {
      "text/html": [
       "Run data is saved locally in <code>M:\\Practice\\Semester-2\\Deep Learning\\Assignments\\Assignement 2\\Part_A\\wandb\\run-20240406_091329-qfmmfnnf</code>"
      ],
      "text/plain": [
       "<IPython.core.display.HTML object>"
      ]
     },
     "metadata": {},
     "output_type": "display_data"
    },
    {
     "data": {
      "text/html": [
       "Syncing run <strong><a href='https://wandb.ai/cs23m055/Assigment2_local/runs/qfmmfnnf' target=\"_blank\">ethereal-sweep-1</a></strong> to <a href='https://wandb.ai/cs23m055/Assigment2_local' target=\"_blank\">Weights & Biases</a> (<a href='https://wandb.me/run' target=\"_blank\">docs</a>)<br/>Sweep page: <a href='https://wandb.ai/cs23m055/Assigment2_local/sweeps/zz1iinjb' target=\"_blank\">https://wandb.ai/cs23m055/Assigment2_local/sweeps/zz1iinjb</a>"
      ],
      "text/plain": [
       "<IPython.core.display.HTML object>"
      ]
     },
     "metadata": {},
     "output_type": "display_data"
    },
    {
     "data": {
      "text/html": [
       " View project at <a href='https://wandb.ai/cs23m055/Assigment2_local' target=\"_blank\">https://wandb.ai/cs23m055/Assigment2_local</a>"
      ],
      "text/plain": [
       "<IPython.core.display.HTML object>"
      ]
     },
     "metadata": {},
     "output_type": "display_data"
    },
    {
     "data": {
      "text/html": [
       " View sweep at <a href='https://wandb.ai/cs23m055/Assigment2_local/sweeps/zz1iinjb' target=\"_blank\">https://wandb.ai/cs23m055/Assigment2_local/sweeps/zz1iinjb</a>"
      ],
      "text/plain": [
       "<IPython.core.display.HTML object>"
      ]
     },
     "metadata": {},
     "output_type": "display_data"
    },
    {
     "data": {
      "text/html": [
       " View run at <a href='https://wandb.ai/cs23m055/Assigment2_local/runs/qfmmfnnf' target=\"_blank\">https://wandb.ai/cs23m055/Assigment2_local/runs/qfmmfnnf</a>"
      ],
      "text/plain": [
       "<IPython.core.display.HTML object>"
      ]
     },
     "metadata": {},
     "output_type": "display_data"
    },
    {
     "name": "stderr",
     "output_type": "stream",
     "text": [
      "100%|████████████████████████████████████████████████████████████████████████████████| 125/125 [06:16<00:00,  3.02s/it]\n",
      "100%|██████████████████████████████████████████████████████████████████████████████████| 32/32 [01:35<00:00,  3.00s/it]\n",
      "100%|██████████████████████████████████████████████████████████████████████████████████| 32/32 [01:35<00:00,  2.99s/it]\n"
     ]
    },
    {
     "name": "stdout",
     "output_type": "stream",
     "text": [
      "\n",
      "Epoch  0 train_acc 11.1764 val_acc 15.2 test_acc 13.85 train_loss 0.03591836334869465 val_loss 0.03631027054786682 test_loss 0.03639943969249725\n"
     ]
    },
    {
     "name": "stderr",
     "output_type": "stream",
     "text": [
      "100%|████████████████████████████████████████████████████████████████████████████████| 125/125 [05:28<00:00,  2.63s/it]\n",
      "100%|██████████████████████████████████████████████████████████████████████████████████| 32/32 [01:23<00:00,  2.62s/it]\n",
      "100%|██████████████████████████████████████████████████████████████████████████████████| 32/32 [01:24<00:00,  2.63s/it]\n"
     ]
    },
    {
     "name": "stdout",
     "output_type": "stream",
     "text": [
      "\n",
      "Epoch  1 train_acc 15.4519 val_acc 15.25 test_acc 15.0 train_loss 0.03547735380551147 val_loss 0.036252149105072025 test_loss 0.03610933518409729\n"
     ]
    },
    {
     "name": "stderr",
     "output_type": "stream",
     "text": [
      "100%|████████████████████████████████████████████████████████████████████████████████| 125/125 [05:34<00:00,  2.68s/it]\n",
      "100%|██████████████████████████████████████████████████████████████████████████████████| 32/32 [01:23<00:00,  2.61s/it]\n",
      "100%|██████████████████████████████████████████████████████████████████████████████████| 32/32 [01:24<00:00,  2.65s/it]\n"
     ]
    },
    {
     "name": "stdout",
     "output_type": "stream",
     "text": [
      "\n",
      "Epoch  2 train_acc 19.0274 val_acc 20.05 test_acc 21.85 train_loss 0.03513127995336156 val_loss 0.0356715726852417 test_loss 0.0356081120967865\n"
     ]
    },
    {
     "name": "stderr",
     "output_type": "stream",
     "text": [
      "100%|████████████████████████████████████████████████████████████████████████████████| 125/125 [05:13<00:00,  2.51s/it]\n",
      "100%|██████████████████████████████████████████████████████████████████████████████████| 32/32 [01:22<00:00,  2.58s/it]\n",
      "100%|██████████████████████████████████████████████████████████████████████████████████| 32/32 [01:23<00:00,  2.61s/it]\n"
     ]
    },
    {
     "name": "stdout",
     "output_type": "stream",
     "text": [
      "\n",
      "Epoch  3 train_acc 19.84 val_acc 19.6 test_acc 20.35 train_loss 0.03495871849336659 val_loss 0.03582615160942078 test_loss 0.03576351547241211\n"
     ]
    },
    {
     "name": "stderr",
     "output_type": "stream",
     "text": [
      "100%|████████████████████████████████████████████████████████████████████████████████| 125/125 [05:30<00:00,  2.64s/it]\n",
      "100%|██████████████████████████████████████████████████████████████████████████████████| 32/32 [01:23<00:00,  2.62s/it]\n",
      "100%|██████████████████████████████████████████████████████████████████████████████████| 32/32 [01:24<00:00,  2.64s/it]\n"
     ]
    },
    {
     "name": "stdout",
     "output_type": "stream",
     "text": [
      "\n",
      "Epoch  4 train_acc 19.5649 val_acc 20.6 test_acc 22.1 train_loss 0.03502428568904289 val_loss 0.03577274239063263 test_loss 0.035608161807060244\n"
     ]
    },
    {
     "name": "stderr",
     "output_type": "stream",
     "text": [
      "100%|████████████████████████████████████████████████████████████████████████████████| 125/125 [05:33<00:00,  2.66s/it]\n",
      "100%|██████████████████████████████████████████████████████████████████████████████████| 32/32 [01:24<00:00,  2.65s/it]\n",
      "100%|██████████████████████████████████████████████████████████████████████████████████| 32/32 [01:19<00:00,  2.49s/it]\n"
     ]
    },
    {
     "name": "stdout",
     "output_type": "stream",
     "text": [
      "\n",
      "Epoch  5 train_acc 21.4777 val_acc 22.05 test_acc 22.7 train_loss 0.03487310059026772 val_loss 0.035473482251167296 test_loss 0.035385470032691956\n"
     ]
    },
    {
     "name": "stderr",
     "output_type": "stream",
     "text": [
      "100%|████████████████████████████████████████████████████████████████████████████████| 125/125 [05:08<00:00,  2.47s/it]\n",
      "100%|██████████████████████████████████████████████████████████████████████████████████| 32/32 [01:19<00:00,  2.47s/it]\n",
      "100%|██████████████████████████████████████████████████████████████████████████████████| 32/32 [01:18<00:00,  2.46s/it]\n"
     ]
    },
    {
     "name": "stdout",
     "output_type": "stream",
     "text": [
      "\n",
      "Epoch  6 train_acc 22.5778 val_acc 23.6 test_acc 21.6 train_loss 0.03470106568391926 val_loss 0.03533427882194519 test_loss 0.035477569580078125\n"
     ]
    },
    {
     "name": "stderr",
     "output_type": "stream",
     "text": [
      "100%|████████████████████████████████████████████████████████████████████████████████| 125/125 [05:14<00:00,  2.51s/it]\n",
      "100%|██████████████████████████████████████████████████████████████████████████████████| 32/32 [01:19<00:00,  2.47s/it]\n",
      "100%|██████████████████████████████████████████████████████████████████████████████████| 32/32 [01:18<00:00,  2.46s/it]\n"
     ]
    },
    {
     "name": "stdout",
     "output_type": "stream",
     "text": [
      "\n",
      "Epoch  7 train_acc 22.6653 val_acc 23.65 test_acc 23.0 train_loss 0.03458928838344287 val_loss 0.03534946620464325 test_loss 0.03540269672870636\n"
     ]
    },
    {
     "name": "stderr",
     "output_type": "stream",
     "text": [
      "100%|████████████████████████████████████████████████████████████████████████████████| 125/125 [05:10<00:00,  2.49s/it]\n",
      "100%|██████████████████████████████████████████████████████████████████████████████████| 32/32 [01:19<00:00,  2.48s/it]\n",
      "100%|██████████████████████████████████████████████████████████████████████████████████| 32/32 [01:19<00:00,  2.48s/it]\n"
     ]
    },
    {
     "name": "stdout",
     "output_type": "stream",
     "text": [
      "\n",
      "Epoch  8 train_acc 23.978 val_acc 23.45 test_acc 22.0 train_loss 0.03448271775248647 val_loss 0.03540812063217163 test_loss 0.035542361378669736\n"
     ]
    },
    {
     "name": "stderr",
     "output_type": "stream",
     "text": [
      "100%|████████████████████████████████████████████████████████████████████████████████| 125/125 [05:25<00:00,  2.60s/it]\n",
      "100%|██████████████████████████████████████████████████████████████████████████████████| 32/32 [01:19<00:00,  2.48s/it]\n",
      "100%|██████████████████████████████████████████████████████████████████████████████████| 32/32 [01:19<00:00,  2.47s/it]\n"
     ]
    },
    {
     "name": "stdout",
     "output_type": "stream",
     "text": [
      "\n",
      "Epoch  9 train_acc 21.5277 val_acc 23.75 test_acc 23.65 train_loss 0.03476643240411575 val_loss 0.03534161639213562 test_loss 0.03537315416336059\n"
     ]
    },
    {
     "name": "stderr",
     "output_type": "stream",
     "text": [
      "100%|████████████████████████████████████████████████████████████████████████████████| 125/125 [05:18<00:00,  2.55s/it]\n",
      "100%|██████████████████████████████████████████████████████████████████████████████████| 32/32 [01:19<00:00,  2.49s/it]\n",
      "100%|██████████████████████████████████████████████████████████████████████████████████| 32/32 [01:18<00:00,  2.46s/it]\n"
     ]
    },
    {
     "name": "stdout",
     "output_type": "stream",
     "text": [
      "\n",
      "Epoch  10 train_acc 24.178 val_acc 26.55 test_acc 23.75 train_loss 0.034433556699889914 val_loss 0.03497798764705658 test_loss 0.035305181980133056\n"
     ]
    },
    {
     "name": "stderr",
     "output_type": "stream",
     "text": [
      "100%|████████████████████████████████████████████████████████████████████████████████| 125/125 [05:27<00:00,  2.62s/it]\n",
      "100%|██████████████████████████████████████████████████████████████████████████████████| 32/32 [01:19<00:00,  2.50s/it]\n",
      "100%|██████████████████████████████████████████████████████████████████████████████████| 32/32 [01:18<00:00,  2.47s/it]\n"
     ]
    },
    {
     "name": "stdout",
     "output_type": "stream",
     "text": [
      "\n",
      "Epoch  11 train_acc 25.2032 val_acc 24.3 test_acc 25.0 train_loss 0.034279635733761686 val_loss 0.03517515468597412 test_loss 0.03514763164520264\n"
     ]
    },
    {
     "name": "stderr",
     "output_type": "stream",
     "text": [
      "100%|████████████████████████████████████████████████████████████████████████████████| 125/125 [05:31<00:00,  2.66s/it]\n",
      "100%|██████████████████████████████████████████████████████████████████████████████████| 32/32 [01:18<00:00,  2.45s/it]\n",
      "100%|██████████████████████████████████████████████████████████████████████████████████| 32/32 [01:19<00:00,  2.48s/it]\n"
     ]
    },
    {
     "name": "stdout",
     "output_type": "stream",
     "text": [
      "\n",
      "Epoch  12 train_acc 25.6657 val_acc 28.35 test_acc 26.6 train_loss 0.0342554836843085 val_loss 0.03461750638484955 test_loss 0.03486984503269196\n"
     ]
    },
    {
     "name": "stderr",
     "output_type": "stream",
     "text": [
      "100%|████████████████████████████████████████████████████████████████████████████████| 125/125 [05:22<00:00,  2.58s/it]\n",
      "100%|██████████████████████████████████████████████████████████████████████████████████| 32/32 [01:19<00:00,  2.48s/it]\n",
      "100%|██████████████████████████████████████████████████████████████████████████████████| 32/32 [01:19<00:00,  2.47s/it]\n"
     ]
    },
    {
     "name": "stdout",
     "output_type": "stream",
     "text": [
      "\n",
      "Epoch  13 train_acc 27.0534 val_acc 24.0 test_acc 22.7 train_loss 0.03406365279302491 val_loss 0.03527388215065003 test_loss 0.035443849921226504\n"
     ]
    },
    {
     "name": "stderr",
     "output_type": "stream",
     "text": [
      "100%|████████████████████████████████████████████████████████████████████████████████| 125/125 [05:08<00:00,  2.47s/it]\n",
      "100%|██████████████████████████████████████████████████████████████████████████████████| 32/32 [01:19<00:00,  2.47s/it]\n",
      "100%|██████████████████████████████████████████████████████████████████████████████████| 32/32 [01:18<00:00,  2.45s/it]\n"
     ]
    },
    {
     "name": "stdout",
     "output_type": "stream",
     "text": [
      "\n",
      "Epoch  14 train_acc 27.816 val_acc 26.7 test_acc 25.35 train_loss 0.03396601148777745 val_loss 0.03488409948348999 test_loss 0.035030641436576845\n"
     ]
    },
    {
     "name": "stderr",
     "output_type": "stream",
     "text": [
      "100%|████████████████████████████████████████████████████████████████████████████████| 125/125 [05:06<00:00,  2.45s/it]\n",
      "100%|██████████████████████████████████████████████████████████████████████████████████| 32/32 [01:19<00:00,  2.47s/it]\n",
      "100%|██████████████████████████████████████████████████████████████████████████████████| 32/32 [01:18<00:00,  2.44s/it]\n"
     ]
    },
    {
     "name": "stdout",
     "output_type": "stream",
     "text": [
      "\n",
      "Epoch  15 train_acc 28.316 val_acc 29.8 test_acc 27.65 train_loss 0.033832553893808334 val_loss 0.034534120082855224 test_loss 0.03484623503684998\n"
     ]
    },
    {
     "name": "stderr",
     "output_type": "stream",
     "text": [
      "100%|████████████████████████████████████████████████████████████████████████████████| 125/125 [05:06<00:00,  2.45s/it]\n",
      "100%|██████████████████████████████████████████████████████████████████████████████████| 32/32 [01:18<00:00,  2.44s/it]\n",
      "100%|██████████████████████████████████████████████████████████████████████████████████| 32/32 [01:17<00:00,  2.44s/it]\n"
     ]
    },
    {
     "name": "stdout",
     "output_type": "stream",
     "text": [
      "\n",
      "Epoch  16 train_acc 29.6537 val_acc 23.3 test_acc 20.45 train_loss 0.033713495571891405 val_loss 0.03553995740413666 test_loss 0.03593168997764588\n"
     ]
    },
    {
     "name": "stderr",
     "output_type": "stream",
     "text": [
      "100%|████████████████████████████████████████████████████████████████████████████████| 125/125 [05:06<00:00,  2.45s/it]\n",
      "100%|██████████████████████████████████████████████████████████████████████████████████| 32/32 [01:18<00:00,  2.45s/it]\n",
      "100%|██████████████████████████████████████████████████████████████████████████████████| 32/32 [01:18<00:00,  2.45s/it]\n"
     ]
    },
    {
     "name": "stdout",
     "output_type": "stream",
     "text": [
      "\n",
      "Epoch  17 train_acc 29.9412 val_acc 30.65 test_acc 28.4 train_loss 0.03365205257948465 val_loss 0.034255346417427064 test_loss 0.03469374918937683\n"
     ]
    },
    {
     "name": "stderr",
     "output_type": "stream",
     "text": [
      "100%|████████████████████████████████████████████████████████████████████████████████| 125/125 [05:06<00:00,  2.46s/it]\n",
      "100%|██████████████████████████████████████████████████████████████████████████████████| 32/32 [01:17<00:00,  2.44s/it]\n",
      "100%|██████████████████████████████████████████████████████████████████████████████████| 32/32 [01:18<00:00,  2.45s/it]\n"
     ]
    },
    {
     "name": "stdout",
     "output_type": "stream",
     "text": [
      "\n",
      "Epoch  18 train_acc 31.2914 val_acc 29.2 test_acc 27.45 train_loss 0.0334679362684179 val_loss 0.03464846432209015 test_loss 0.03479087162017822\n"
     ]
    },
    {
     "name": "stderr",
     "output_type": "stream",
     "text": [
      "100%|████████████████████████████████████████████████████████████████████████████████| 125/125 [05:06<00:00,  2.46s/it]\n",
      "100%|██████████████████████████████████████████████████████████████████████████████████| 32/32 [01:17<00:00,  2.44s/it]\n",
      "100%|██████████████████████████████████████████████████████████████████████████████████| 32/32 [01:18<00:00,  2.45s/it]\n"
     ]
    },
    {
     "name": "stdout",
     "output_type": "stream",
     "text": [
      "\n",
      "Epoch  19 train_acc 32.154 val_acc 31.3 test_acc 27.0 train_loss 0.033314240636013646 val_loss 0.03422351682186127 test_loss 0.03486283779144287\n"
     ]
    },
    {
     "name": "stderr",
     "output_type": "stream",
     "text": [
      "100%|████████████████████████████████████████████████████████████████████████████████| 125/125 [05:07<00:00,  2.46s/it]\n",
      "100%|██████████████████████████████████████████████████████████████████████████████████| 32/32 [01:17<00:00,  2.43s/it]\n",
      "100%|██████████████████████████████████████████████████████████████████████████████████| 32/32 [01:18<00:00,  2.45s/it]\n"
     ]
    },
    {
     "name": "stdout",
     "output_type": "stream",
     "text": [
      "\n",
      "Epoch  20 train_acc 32.3915 val_acc 30.1 test_acc 26.8 train_loss 0.0332659207697078 val_loss 0.03440964913368225 test_loss 0.034901726126670835\n"
     ]
    },
    {
     "name": "stderr",
     "output_type": "stream",
     "text": [
      "100%|████████████████████████████████████████████████████████████████████████████████| 125/125 [05:07<00:00,  2.46s/it]\n",
      "100%|██████████████████████████████████████████████████████████████████████████████████| 32/32 [01:17<00:00,  2.43s/it]\n",
      "100%|██████████████████████████████████████████████████████████████████████████████████| 32/32 [01:18<00:00,  2.44s/it]\n"
     ]
    },
    {
     "name": "stdout",
     "output_type": "stream",
     "text": [
      "\n",
      "Epoch  21 train_acc 33.5042 val_acc 35.3 test_acc 28.95 train_loss 0.03314163077099649 val_loss 0.033609193682670596 test_loss 0.03458992350101471\n"
     ]
    },
    {
     "name": "stderr",
     "output_type": "stream",
     "text": [
      "100%|████████████████████████████████████████████████████████████████████████████████| 125/125 [05:10<00:00,  2.48s/it]\n",
      "100%|██████████████████████████████████████████████████████████████████████████████████| 32/32 [01:17<00:00,  2.43s/it]\n",
      "100%|██████████████████████████████████████████████████████████████████████████████████| 32/32 [01:17<00:00,  2.43s/it]\n"
     ]
    },
    {
     "name": "stdout",
     "output_type": "stream",
     "text": [
      "\n",
      "Epoch  22 train_acc 34.4668 val_acc 33.35 test_acc 26.75 train_loss 0.03295564872054014 val_loss 0.03385432428121567 test_loss 0.03479623007774353\n"
     ]
    },
    {
     "name": "stderr",
     "output_type": "stream",
     "text": [
      "100%|████████████████████████████████████████████████████████████████████████████████| 125/125 [05:06<00:00,  2.45s/it]\n",
      "100%|██████████████████████████████████████████████████████████████████████████████████| 32/32 [01:17<00:00,  2.44s/it]\n",
      "100%|██████████████████████████████████████████████████████████████████████████████████| 32/32 [01:18<00:00,  2.44s/it]\n"
     ]
    },
    {
     "name": "stdout",
     "output_type": "stream",
     "text": [
      "\n",
      "Epoch  23 train_acc 34.6793 val_acc 35.4 test_acc 30.0 train_loss 0.032952466164846574 val_loss 0.03352365076541901 test_loss 0.0343647438287735\n"
     ]
    },
    {
     "name": "stderr",
     "output_type": "stream",
     "text": [
      "100%|████████████████████████████████████████████████████████████████████████████████| 125/125 [05:11<00:00,  2.49s/it]\n",
      "100%|██████████████████████████████████████████████████████████████████████████████████| 32/32 [01:18<00:00,  2.45s/it]\n",
      "100%|██████████████████████████████████████████████████████████████████████████████████| 32/32 [01:18<00:00,  2.45s/it]\n"
     ]
    },
    {
     "name": "stdout",
     "output_type": "stream",
     "text": [
      "\n",
      "Epoch  24 train_acc 35.5919 val_acc 35.5 test_acc 28.15 train_loss 0.03278673215275452 val_loss 0.03351984977722168 test_loss 0.03469284033775329\n"
     ]
    },
    {
     "data": {
      "text/html": [
       "<style>\n",
       "    table.wandb td:nth-child(1) { padding: 0 10px; text-align: left ; width: auto;} td:nth-child(2) {text-align: left ; width: 100%}\n",
       "    .wandb-row { display: flex; flex-direction: row; flex-wrap: wrap; justify-content: flex-start; width: 100% }\n",
       "    .wandb-col { display: flex; flex-direction: column; flex-basis: 100%; flex: 1; padding: 10px; }\n",
       "    </style>\n",
       "<div class=\"wandb-row\"><div class=\"wandb-col\"><h3>Run history:</h3><br/><table class=\"wandb\"><tr><td>test_acc</td><td>▁▁▄▄▅▅▄▅▅▅▅▆▇▅▆▇▄▇▇▇▇█▇█▇</td></tr><tr><td>test_loss</td><td>█▇▅▆▅▅▅▅▅▄▄▄▃▅▃▃▆▂▂▃▃▂▂▁▂</td></tr><tr><td>train_acc</td><td>▁▂▃▃▃▄▄▄▅▄▅▅▅▆▆▆▆▆▇▇▇▇███</td></tr><tr><td>train_loss</td><td>█▇▆▆▆▆▅▅▅▅▅▄▄▄▄▃▃▃▃▂▂▂▁▁▁</td></tr><tr><td>val_acc</td><td>▁▁▃▃▃▃▄▄▄▄▅▄▆▄▅▆▄▆▆▇▆█▇██</td></tr><tr><td>val_loss</td><td>██▆▇▇▆▆▆▆▆▅▅▄▅▄▄▆▃▄▃▃▁▂▁▁</td></tr></table><br/></div><div class=\"wandb-col\"><h3>Run summary:</h3><br/><table class=\"wandb\"><tr><td>test_acc</td><td>28.15</td></tr><tr><td>test_loss</td><td>0.03469</td></tr><tr><td>train_acc</td><td>35.5919</td></tr><tr><td>train_loss</td><td>0.03279</td></tr><tr><td>val_acc</td><td>35.5</td></tr><tr><td>val_loss</td><td>0.03352</td></tr></table><br/></div></div>"
      ],
      "text/plain": [
       "<IPython.core.display.HTML object>"
      ]
     },
     "metadata": {},
     "output_type": "display_data"
    },
    {
     "data": {
      "text/html": [
       " View run <strong style=\"color:#cdcd00\">ethereal-sweep-1</strong> at: <a href='https://wandb.ai/cs23m055/Assigment2_local/runs/qfmmfnnf' target=\"_blank\">https://wandb.ai/cs23m055/Assigment2_local/runs/qfmmfnnf</a><br/> View project at: <a href='https://wandb.ai/cs23m055/Assigment2_local' target=\"_blank\">https://wandb.ai/cs23m055/Assigment2_local</a><br/>Synced 5 W&B file(s), 0 media file(s), 0 artifact file(s) and 0 other file(s)"
      ],
      "text/plain": [
       "<IPython.core.display.HTML object>"
      ]
     },
     "metadata": {},
     "output_type": "display_data"
    },
    {
     "data": {
      "text/html": [
       "Find logs at: <code>.\\wandb\\run-20240406_091329-qfmmfnnf\\logs</code>"
      ],
      "text/plain": [
       "<IPython.core.display.HTML object>"
      ]
     },
     "metadata": {},
     "output_type": "display_data"
    },
    {
     "name": "stderr",
     "output_type": "stream",
     "text": [
      "\u001b[34m\u001b[1mwandb\u001b[0m: Agent Starting Run: o6qwqj5x with config:\n",
      "\u001b[34m\u001b[1mwandb\u001b[0m: \tactivation: relu\n",
      "\u001b[34m\u001b[1mwandb\u001b[0m: \tbatch_norm: True\n",
      "\u001b[34m\u001b[1mwandb\u001b[0m: \tbatch_size: 128\n",
      "\u001b[34m\u001b[1mwandb\u001b[0m: \tdata_aug: True\n",
      "\u001b[34m\u001b[1mwandb\u001b[0m: \tdropout: 0.1\n",
      "\u001b[34m\u001b[1mwandb\u001b[0m: \tepochs: 20\n",
      "\u001b[34m\u001b[1mwandb\u001b[0m: \tfilter_organization: 0.5\n",
      "\u001b[34m\u001b[1mwandb\u001b[0m: \tlearning_rate: 0.0003\n",
      "\u001b[34m\u001b[1mwandb\u001b[0m: \tneurons_in_dense_layer: 32\n",
      "\u001b[34m\u001b[1mwandb\u001b[0m: \tnumber_initial_filters: 16\n",
      "\u001b[34m\u001b[1mwandb\u001b[0m: \tsize_filters: [11, 9, 7, 5, 3]\n",
      "\u001b[34m\u001b[1mwandb\u001b[0m: \u001b[33mWARNING\u001b[0m Ignored wandb.init() arg project when running a sweep.\n",
      "\u001b[34m\u001b[1mwandb\u001b[0m: \u001b[33mWARNING\u001b[0m Ignored wandb.init() arg entity when running a sweep.\n"
     ]
    },
    {
     "data": {
      "text/html": [
       "Tracking run with wandb version 0.16.6"
      ],
      "text/plain": [
       "<IPython.core.display.HTML object>"
      ]
     },
     "metadata": {},
     "output_type": "display_data"
    },
    {
     "data": {
      "text/html": [
       "Run data is saved locally in <code>M:\\Practice\\Semester-2\\Deep Learning\\Assignments\\Assignement 2\\Part_A\\wandb\\run-20240406_123336-o6qwqj5x</code>"
      ],
      "text/plain": [
       "<IPython.core.display.HTML object>"
      ]
     },
     "metadata": {},
     "output_type": "display_data"
    },
    {
     "data": {
      "text/html": [
       "Syncing run <strong><a href='https://wandb.ai/cs23m055/Assigment2_local/runs/o6qwqj5x' target=\"_blank\">floral-sweep-2</a></strong> to <a href='https://wandb.ai/cs23m055/Assigment2_local' target=\"_blank\">Weights & Biases</a> (<a href='https://wandb.me/run' target=\"_blank\">docs</a>)<br/>Sweep page: <a href='https://wandb.ai/cs23m055/Assigment2_local/sweeps/zz1iinjb' target=\"_blank\">https://wandb.ai/cs23m055/Assigment2_local/sweeps/zz1iinjb</a>"
      ],
      "text/plain": [
       "<IPython.core.display.HTML object>"
      ]
     },
     "metadata": {},
     "output_type": "display_data"
    },
    {
     "data": {
      "text/html": [
       " View project at <a href='https://wandb.ai/cs23m055/Assigment2_local' target=\"_blank\">https://wandb.ai/cs23m055/Assigment2_local</a>"
      ],
      "text/plain": [
       "<IPython.core.display.HTML object>"
      ]
     },
     "metadata": {},
     "output_type": "display_data"
    },
    {
     "data": {
      "text/html": [
       " View sweep at <a href='https://wandb.ai/cs23m055/Assigment2_local/sweeps/zz1iinjb' target=\"_blank\">https://wandb.ai/cs23m055/Assigment2_local/sweeps/zz1iinjb</a>"
      ],
      "text/plain": [
       "<IPython.core.display.HTML object>"
      ]
     },
     "metadata": {},
     "output_type": "display_data"
    },
    {
     "data": {
      "text/html": [
       " View run at <a href='https://wandb.ai/cs23m055/Assigment2_local/runs/o6qwqj5x' target=\"_blank\">https://wandb.ai/cs23m055/Assigment2_local/runs/o6qwqj5x</a>"
      ],
      "text/plain": [
       "<IPython.core.display.HTML object>"
      ]
     },
     "metadata": {},
     "output_type": "display_data"
    },
    {
     "name": "stderr",
     "output_type": "stream",
     "text": [
      "100%|██████████████████████████████████████████████████████████████████████████████████| 63/63 [05:11<00:00,  4.94s/it]\n",
      "100%|██████████████████████████████████████████████████████████████████████████████████| 16/16 [01:08<00:00,  4.27s/it]\n",
      "100%|██████████████████████████████████████████████████████████████████████████████████| 16/16 [01:07<00:00,  4.22s/it]\n"
     ]
    },
    {
     "name": "stdout",
     "output_type": "stream",
     "text": [
      "\n",
      "Epoch  0 train_acc 10.1763 val_acc 11.85 test_acc 11.65 train_loss 0.01813511592713814 val_loss 0.018399871706962584 test_loss 0.01840301012992859\n"
     ]
    },
    {
     "name": "stderr",
     "output_type": "stream",
     "text": [
      "100%|██████████████████████████████████████████████████████████████████████████████████| 63/63 [04:52<00:00,  4.64s/it]\n",
      "100%|██████████████████████████████████████████████████████████████████████████████████| 16/16 [01:15<00:00,  4.73s/it]\n",
      "100%|██████████████████████████████████████████████████████████████████████████████████| 16/16 [01:14<00:00,  4.69s/it]\n"
     ]
    },
    {
     "name": "stdout",
     "output_type": "stream",
     "text": [
      "\n",
      "Epoch  1 train_acc 12.089 val_acc 10.5 test_acc 10.6 train_loss 0.01810658536921264 val_loss 0.018376571774482726 test_loss 0.018381850123405458\n"
     ]
    },
    {
     "name": "stderr",
     "output_type": "stream",
     "text": [
      "100%|██████████████████████████████████████████████████████████████████████████████████| 63/63 [05:05<00:00,  4.85s/it]\n",
      "100%|██████████████████████████████████████████████████████████████████████████████████| 16/16 [01:16<00:00,  4.76s/it]\n",
      "100%|██████████████████████████████████████████████████████████████████████████████████| 16/16 [01:14<00:00,  4.64s/it]\n"
     ]
    },
    {
     "name": "stdout",
     "output_type": "stream",
     "text": [
      "\n",
      "Epoch  2 train_acc 12.6516 val_acc 10.85 test_acc 11.15 train_loss 0.018041492238732065 val_loss 0.01832232630252838 test_loss 0.018318379163742064\n"
     ]
    },
    {
     "name": "stderr",
     "output_type": "stream",
     "text": [
      "100%|██████████████████████████████████████████████████████████████████████████████████| 63/63 [05:05<00:00,  4.84s/it]\n",
      "100%|██████████████████████████████████████████████████████████████████████████████████| 16/16 [01:15<00:00,  4.72s/it]\n",
      "100%|██████████████████████████████████████████████████████████████████████████████████| 16/16 [01:14<00:00,  4.65s/it]\n"
     ]
    },
    {
     "name": "stdout",
     "output_type": "stream",
     "text": [
      "\n",
      "Epoch  3 train_acc 12.3765 val_acc 13.3 test_acc 12.95 train_loss 0.018020059305632885 val_loss 0.018243162989616393 test_loss 0.01827528405189514\n"
     ]
    },
    {
     "name": "stderr",
     "output_type": "stream",
     "text": [
      "100%|██████████████████████████████████████████████████████████████████████████████████| 63/63 [05:04<00:00,  4.83s/it]\n",
      "100%|██████████████████████████████████████████████████████████████████████████████████| 16/16 [01:16<00:00,  4.80s/it]\n",
      "100%|██████████████████████████████████████████████████████████████████████████████████| 16/16 [01:14<00:00,  4.65s/it]\n"
     ]
    },
    {
     "name": "stdout",
     "output_type": "stream",
     "text": [
      "\n",
      "Epoch  4 train_acc 13.3267 val_acc 13.0 test_acc 12.8 train_loss 0.01799503194196386 val_loss 0.018251021981239318 test_loss 0.01824758577346802\n"
     ]
    },
    {
     "name": "stderr",
     "output_type": "stream",
     "text": [
      "100%|██████████████████████████████████████████████████████████████████████████████████| 63/63 [05:05<00:00,  4.85s/it]\n",
      "100%|██████████████████████████████████████████████████████████████████████████████████| 16/16 [01:15<00:00,  4.75s/it]\n",
      "100%|██████████████████████████████████████████████████████████████████████████████████| 16/16 [01:14<00:00,  4.69s/it]\n"
     ]
    },
    {
     "name": "stdout",
     "output_type": "stream",
     "text": [
      "\n",
      "Epoch  5 train_acc 13.4142 val_acc 15.0 test_acc 13.25 train_loss 0.017975888083556067 val_loss 0.01821039867401123 test_loss 0.018228463768959046\n"
     ]
    },
    {
     "name": "stderr",
     "output_type": "stream",
     "text": [
      "100%|██████████████████████████████████████████████████████████████████████████████████| 63/63 [05:04<00:00,  4.84s/it]\n",
      "100%|██████████████████████████████████████████████████████████████████████████████████| 16/16 [01:16<00:00,  4.79s/it]\n",
      "100%|██████████████████████████████████████████████████████████████████████████████████| 16/16 [01:15<00:00,  4.71s/it]\n"
     ]
    },
    {
     "name": "stdout",
     "output_type": "stream",
     "text": [
      "\n",
      "Epoch  6 train_acc 13.8892 val_acc 13.65 test_acc 13.75 train_loss 0.017957007740419913 val_loss 0.01824856209754944 test_loss 0.01822565734386444\n"
     ]
    },
    {
     "name": "stderr",
     "output_type": "stream",
     "text": [
      "100%|██████████████████████████████████████████████████████████████████████████████████| 63/63 [05:04<00:00,  4.83s/it]\n",
      "100%|██████████████████████████████████████████████████████████████████████████████████| 16/16 [01:17<00:00,  4.81s/it]\n",
      "100%|██████████████████████████████████████████████████████████████████████████████████| 16/16 [01:15<00:00,  4.70s/it]\n"
     ]
    },
    {
     "name": "stdout",
     "output_type": "stream",
     "text": [
      "\n",
      "Epoch  7 train_acc 14.7393 val_acc 13.4 test_acc 13.75 train_loss 0.017945322696529847 val_loss 0.018240518093109132 test_loss 0.01822877550125122\n"
     ]
    },
    {
     "name": "stderr",
     "output_type": "stream",
     "text": [
      "100%|██████████████████████████████████████████████████████████████████████████████████| 63/63 [05:10<00:00,  4.92s/it]\n",
      "100%|██████████████████████████████████████████████████████████████████████████████████| 16/16 [01:15<00:00,  4.75s/it]\n",
      "100%|██████████████████████████████████████████████████████████████████████████████████| 16/16 [01:15<00:00,  4.70s/it]\n"
     ]
    },
    {
     "name": "stdout",
     "output_type": "stream",
     "text": [
      "\n",
      "Epoch  8 train_acc 14.7143 val_acc 14.4 test_acc 14.3 train_loss 0.017920137569448 val_loss 0.018266019225120545 test_loss 0.01825743246078491\n"
     ]
    },
    {
     "name": "stderr",
     "output_type": "stream",
     "text": [
      "100%|██████████████████████████████████████████████████████████████████████████████████| 63/63 [05:08<00:00,  4.89s/it]\n",
      "100%|██████████████████████████████████████████████████████████████████████████████████| 16/16 [01:18<00:00,  4.89s/it]\n",
      "100%|██████████████████████████████████████████████████████████████████████████████████| 16/16 [01:15<00:00,  4.73s/it]\n"
     ]
    },
    {
     "name": "stdout",
     "output_type": "stream",
     "text": [
      "\n",
      "Epoch  9 train_acc 14.3268 val_acc 14.5 test_acc 15.15 train_loss 0.01792773143516986 val_loss 0.018199684381484987 test_loss 0.01820536994934082\n"
     ]
    },
    {
     "name": "stderr",
     "output_type": "stream",
     "text": [
      "100%|██████████████████████████████████████████████████████████████████████████████████| 63/63 [05:04<00:00,  4.83s/it]\n",
      "100%|██████████████████████████████████████████████████████████████████████████████████| 16/16 [01:16<00:00,  4.81s/it]\n",
      "100%|██████████████████████████████████████████████████████████████████████████████████| 16/16 [01:15<00:00,  4.69s/it]\n"
     ]
    },
    {
     "name": "stdout",
     "output_type": "stream",
     "text": [
      "\n",
      "Epoch  10 train_acc 14.5393 val_acc 13.35 test_acc 13.95 train_loss 0.017920933182291095 val_loss 0.01828355026245117 test_loss 0.018282652974128722\n"
     ]
    },
    {
     "name": "stderr",
     "output_type": "stream",
     "text": [
      "100%|██████████████████████████████████████████████████████████████████████████████████| 63/63 [05:02<00:00,  4.80s/it]\n",
      "100%|██████████████████████████████████████████████████████████████████████████████████| 16/16 [01:16<00:00,  4.81s/it]\n",
      "100%|██████████████████████████████████████████████████████████████████████████████████| 16/16 [01:14<00:00,  4.68s/it]\n"
     ]
    },
    {
     "name": "stdout",
     "output_type": "stream",
     "text": [
      "\n",
      "Epoch  11 train_acc 14.8894 val_acc 15.05 test_acc 15.7 train_loss 0.017901274901298392 val_loss 0.018217167377471925 test_loss 0.0181688768863678\n"
     ]
    },
    {
     "name": "stderr",
     "output_type": "stream",
     "text": [
      "100%|██████████████████████████████████████████████████████████████████████████████████| 63/63 [05:04<00:00,  4.84s/it]\n",
      "100%|██████████████████████████████████████████████████████████████████████████████████| 16/16 [01:16<00:00,  4.78s/it]\n",
      "100%|██████████████████████████████████████████████████████████████████████████████████| 16/16 [01:14<00:00,  4.68s/it]\n"
     ]
    },
    {
     "name": "stdout",
     "output_type": "stream",
     "text": [
      "\n",
      "Epoch  12 train_acc 15.3894 val_acc 15.15 test_acc 15.5 train_loss 0.017899951989657582 val_loss 0.018190457105636597 test_loss 0.01816059362888336\n"
     ]
    },
    {
     "name": "stderr",
     "output_type": "stream",
     "text": [
      "100%|██████████████████████████████████████████████████████████████████████████████████| 63/63 [05:04<00:00,  4.84s/it]\n",
      "100%|██████████████████████████████████████████████████████████████████████████████████| 16/16 [01:16<00:00,  4.79s/it]\n",
      "100%|██████████████████████████████████████████████████████████████████████████████████| 16/16 [01:14<00:00,  4.67s/it]\n"
     ]
    },
    {
     "name": "stdout",
     "output_type": "stream",
     "text": [
      "\n",
      "Epoch  13 train_acc 15.652 val_acc 13.35 test_acc 14.25 train_loss 0.017886626033399057 val_loss 0.018314688205718993 test_loss 0.018260129570960997\n"
     ]
    },
    {
     "name": "stderr",
     "output_type": "stream",
     "text": [
      "100%|██████████████████████████████████████████████████████████████████████████████████| 63/63 [05:05<00:00,  4.85s/it]\n",
      "100%|██████████████████████████████████████████████████████████████████████████████████| 16/16 [01:15<00:00,  4.73s/it]\n",
      "100%|██████████████████████████████████████████████████████████████████████████████████| 16/16 [01:15<00:00,  4.70s/it]\n"
     ]
    },
    {
     "name": "stdout",
     "output_type": "stream",
     "text": [
      "\n",
      "Epoch  14 train_acc 16.177 val_acc 16.7 test_acc 15.6 train_loss 0.01787923294121749 val_loss 0.018074792861938478 test_loss 0.0181410413980484\n"
     ]
    },
    {
     "name": "stderr",
     "output_type": "stream",
     "text": [
      "100%|██████████████████████████████████████████████████████████████████████████████████| 63/63 [05:05<00:00,  4.85s/it]\n",
      "100%|██████████████████████████████████████████████████████████████████████████████████| 16/16 [01:16<00:00,  4.79s/it]\n",
      "100%|██████████████████████████████████████████████████████████████████████████████████| 16/16 [01:14<00:00,  4.68s/it]\n"
     ]
    },
    {
     "name": "stdout",
     "output_type": "stream",
     "text": [
      "\n",
      "Epoch  15 train_acc 16.6271 val_acc 15.85 test_acc 15.35 train_loss 0.017842961663170925 val_loss 0.018096359014511107 test_loss 0.018143671751022338\n"
     ]
    },
    {
     "name": "stderr",
     "output_type": "stream",
     "text": [
      "100%|██████████████████████████████████████████████████████████████████████████████████| 63/63 [05:07<00:00,  4.88s/it]\n",
      "100%|██████████████████████████████████████████████████████████████████████████████████| 16/16 [01:15<00:00,  4.74s/it]\n",
      "100%|██████████████████████████████████████████████████████████████████████████████████| 16/16 [01:14<00:00,  4.68s/it]\n"
     ]
    },
    {
     "name": "stdout",
     "output_type": "stream",
     "text": [
      "\n",
      "Epoch  16 train_acc 15.8145 val_acc 16.5 test_acc 16.1 train_loss 0.01785633206024723 val_loss 0.01810994064807892 test_loss 0.018126692414283753\n"
     ]
    },
    {
     "name": "stderr",
     "output_type": "stream",
     "text": [
      "100%|██████████████████████████████████████████████████████████████████████████████████| 63/63 [05:04<00:00,  4.84s/it]\n",
      "100%|██████████████████████████████████████████████████████████████████████████████████| 16/16 [01:15<00:00,  4.74s/it]\n",
      "100%|██████████████████████████████████████████████████████████████████████████████████| 16/16 [01:14<00:00,  4.67s/it]\n"
     ]
    },
    {
     "name": "stdout",
     "output_type": "stream",
     "text": [
      "\n",
      "Epoch  17 train_acc 17.1146 val_acc 15.05 test_acc 16.9 train_loss 0.01782241942420842 val_loss 0.018161867260932923 test_loss 0.01810503566265106\n"
     ]
    },
    {
     "name": "stderr",
     "output_type": "stream",
     "text": [
      "100%|██████████████████████████████████████████████████████████████████████████████████| 63/63 [05:04<00:00,  4.84s/it]\n",
      "100%|██████████████████████████████████████████████████████████████████████████████████| 16/16 [01:16<00:00,  4.75s/it]\n",
      "100%|██████████████████████████████████████████████████████████████████████████████████| 16/16 [01:14<00:00,  4.67s/it]\n"
     ]
    },
    {
     "name": "stdout",
     "output_type": "stream",
     "text": [
      "\n",
      "Epoch  18 train_acc 17.3397 val_acc 18.45 test_acc 17.95 train_loss 0.017815747250913307 val_loss 0.018040428638458252 test_loss 0.018092420578002928\n"
     ]
    },
    {
     "name": "stderr",
     "output_type": "stream",
     "text": [
      "100%|██████████████████████████████████████████████████████████████████████████████████| 63/63 [05:04<00:00,  4.83s/it]\n",
      "100%|██████████████████████████████████████████████████████████████████████████████████| 16/16 [01:16<00:00,  4.76s/it]\n",
      "100%|██████████████████████████████████████████████████████████████████████████████████| 16/16 [01:14<00:00,  4.64s/it]\n"
     ]
    },
    {
     "name": "stdout",
     "output_type": "stream",
     "text": [
      "\n",
      "Epoch  19 train_acc 18.1273 val_acc 18.65 test_acc 17.5 train_loss 0.01778483495129274 val_loss 0.018037304639816284 test_loss 0.01811874234676361\n"
     ]
    },
    {
     "data": {
      "text/html": [
       "<style>\n",
       "    table.wandb td:nth-child(1) { padding: 0 10px; text-align: left ; width: auto;} td:nth-child(2) {text-align: left ; width: 100%}\n",
       "    .wandb-row { display: flex; flex-direction: row; flex-wrap: wrap; justify-content: flex-start; width: 100% }\n",
       "    .wandb-col { display: flex; flex-direction: column; flex-basis: 100%; flex: 1; padding: 10px; }\n",
       "    </style>\n",
       "<div class=\"wandb-row\"><div class=\"wandb-col\"><h3>Run history:</h3><br/><table class=\"wandb\"><tr><td>test_acc</td><td>▂▁▂▃▃▄▄▄▅▅▄▆▆▄▆▆▆▇██</td></tr><tr><td>test_loss</td><td>██▆▅▄▄▄▄▅▄▅▃▃▅▂▂▂▁▁▂</td></tr><tr><td>train_acc</td><td>▁▃▃▃▄▄▄▅▅▅▅▅▆▆▆▇▆▇▇█</td></tr><tr><td>train_loss</td><td>█▇▆▆▅▅▄▄▄▄▄▃▃▃▃▂▂▂▂▁</td></tr><tr><td>val_acc</td><td>▂▁▁▃▃▅▄▃▄▄▃▅▅▃▆▆▆▅██</td></tr><tr><td>val_loss</td><td>██▇▅▅▄▅▅▅▄▆▄▄▆▂▂▂▃▁▁</td></tr></table><br/></div><div class=\"wandb-col\"><h3>Run summary:</h3><br/><table class=\"wandb\"><tr><td>test_acc</td><td>17.5</td></tr><tr><td>test_loss</td><td>0.01812</td></tr><tr><td>train_acc</td><td>18.1273</td></tr><tr><td>train_loss</td><td>0.01778</td></tr><tr><td>val_acc</td><td>18.65</td></tr><tr><td>val_loss</td><td>0.01804</td></tr></table><br/></div></div>"
      ],
      "text/plain": [
       "<IPython.core.display.HTML object>"
      ]
     },
     "metadata": {},
     "output_type": "display_data"
    },
    {
     "data": {
      "text/html": [
       " View run <strong style=\"color:#cdcd00\">floral-sweep-2</strong> at: <a href='https://wandb.ai/cs23m055/Assigment2_local/runs/o6qwqj5x' target=\"_blank\">https://wandb.ai/cs23m055/Assigment2_local/runs/o6qwqj5x</a><br/> View project at: <a href='https://wandb.ai/cs23m055/Assigment2_local' target=\"_blank\">https://wandb.ai/cs23m055/Assigment2_local</a><br/>Synced 5 W&B file(s), 0 media file(s), 0 artifact file(s) and 0 other file(s)"
      ],
      "text/plain": [
       "<IPython.core.display.HTML object>"
      ]
     },
     "metadata": {},
     "output_type": "display_data"
    },
    {
     "data": {
      "text/html": [
       "Find logs at: <code>.\\wandb\\run-20240406_123336-o6qwqj5x\\logs</code>"
      ],
      "text/plain": [
       "<IPython.core.display.HTML object>"
      ]
     },
     "metadata": {},
     "output_type": "display_data"
    },
    {
     "name": "stderr",
     "output_type": "stream",
     "text": [
      "\u001b[34m\u001b[1mwandb\u001b[0m: Agent Starting Run: etvj67gl with config:\n",
      "\u001b[34m\u001b[1mwandb\u001b[0m: \tactivation: silu\n",
      "\u001b[34m\u001b[1mwandb\u001b[0m: \tbatch_norm: False\n",
      "\u001b[34m\u001b[1mwandb\u001b[0m: \tbatch_size: 128\n",
      "\u001b[34m\u001b[1mwandb\u001b[0m: \tdata_aug: True\n",
      "\u001b[34m\u001b[1mwandb\u001b[0m: \tdropout: 0\n",
      "\u001b[34m\u001b[1mwandb\u001b[0m: \tepochs: 25\n",
      "\u001b[34m\u001b[1mwandb\u001b[0m: \tfilter_organization: 1\n",
      "\u001b[34m\u001b[1mwandb\u001b[0m: \tlearning_rate: 0.0001\n",
      "\u001b[34m\u001b[1mwandb\u001b[0m: \tneurons_in_dense_layer: 64\n",
      "\u001b[34m\u001b[1mwandb\u001b[0m: \tnumber_initial_filters: 128\n",
      "\u001b[34m\u001b[1mwandb\u001b[0m: \tsize_filters: [11, 9, 7, 5, 3]\n",
      "\u001b[34m\u001b[1mwandb\u001b[0m: \u001b[33mWARNING\u001b[0m Ignored wandb.init() arg project when running a sweep.\n",
      "\u001b[34m\u001b[1mwandb\u001b[0m: \u001b[33mWARNING\u001b[0m Ignored wandb.init() arg entity when running a sweep.\n"
     ]
    },
    {
     "data": {
      "text/html": [
       "Tracking run with wandb version 0.16.6"
      ],
      "text/plain": [
       "<IPython.core.display.HTML object>"
      ]
     },
     "metadata": {},
     "output_type": "display_data"
    },
    {
     "data": {
      "text/html": [
       "Run data is saved locally in <code>M:\\Practice\\Semester-2\\Deep Learning\\Assignments\\Assignement 2\\Part_A\\wandb\\run-20240406_150551-etvj67gl</code>"
      ],
      "text/plain": [
       "<IPython.core.display.HTML object>"
      ]
     },
     "metadata": {},
     "output_type": "display_data"
    },
    {
     "data": {
      "text/html": [
       "Syncing run <strong><a href='https://wandb.ai/cs23m055/Assigment2_local/runs/etvj67gl' target=\"_blank\">colorful-sweep-3</a></strong> to <a href='https://wandb.ai/cs23m055/Assigment2_local' target=\"_blank\">Weights & Biases</a> (<a href='https://wandb.me/run' target=\"_blank\">docs</a>)<br/>Sweep page: <a href='https://wandb.ai/cs23m055/Assigment2_local/sweeps/zz1iinjb' target=\"_blank\">https://wandb.ai/cs23m055/Assigment2_local/sweeps/zz1iinjb</a>"
      ],
      "text/plain": [
       "<IPython.core.display.HTML object>"
      ]
     },
     "metadata": {},
     "output_type": "display_data"
    },
    {
     "data": {
      "text/html": [
       " View project at <a href='https://wandb.ai/cs23m055/Assigment2_local' target=\"_blank\">https://wandb.ai/cs23m055/Assigment2_local</a>"
      ],
      "text/plain": [
       "<IPython.core.display.HTML object>"
      ]
     },
     "metadata": {},
     "output_type": "display_data"
    },
    {
     "data": {
      "text/html": [
       " View sweep at <a href='https://wandb.ai/cs23m055/Assigment2_local/sweeps/zz1iinjb' target=\"_blank\">https://wandb.ai/cs23m055/Assigment2_local/sweeps/zz1iinjb</a>"
      ],
      "text/plain": [
       "<IPython.core.display.HTML object>"
      ]
     },
     "metadata": {},
     "output_type": "display_data"
    },
    {
     "data": {
      "text/html": [
       " View run at <a href='https://wandb.ai/cs23m055/Assigment2_local/runs/etvj67gl' target=\"_blank\">https://wandb.ai/cs23m055/Assigment2_local/runs/etvj67gl</a>"
      ],
      "text/plain": [
       "<IPython.core.display.HTML object>"
      ]
     },
     "metadata": {},
     "output_type": "display_data"
    },
    {
     "name": "stderr",
     "output_type": "stream",
     "text": [
      "  0%|                                                                                           | 0/63 [00:00<?, ?it/s]"
     ]
    }
   ],
   "source": [
    "wandb.agent(sweep_id, function=spawn_fn, count=5)"
   ]
  },
  {
   "cell_type": "code",
   "execution_count": null,
   "id": "81887c1e-8cb9-4956-a3c8-4b9738384450",
   "metadata": {},
   "outputs": [],
   "source": []
  }
 ],
 "metadata": {
  "kernelspec": {
   "display_name": "Python 3 (ipykernel)",
   "language": "python",
   "name": "python3"
  },
  "language_info": {
   "codemirror_mode": {
    "name": "ipython",
    "version": 3
   },
   "file_extension": ".py",
   "mimetype": "text/x-python",
   "name": "python",
   "nbconvert_exporter": "python",
   "pygments_lexer": "ipython3",
   "version": "3.12.0"
  }
 },
 "nbformat": 4,
 "nbformat_minor": 5
}
